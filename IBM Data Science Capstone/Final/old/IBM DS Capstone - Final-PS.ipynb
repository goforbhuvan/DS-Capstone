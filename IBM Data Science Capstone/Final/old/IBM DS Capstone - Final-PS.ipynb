{
 "cells": [
  {
   "cell_type": "markdown",
   "metadata": {},
   "source": [
    "<h1 align=center><font size = 5>Analyzing the neighborhoods in the city of Toronto</font></h1>\n",
    " "
   ]
  },
  {
   "cell_type": "markdown",
   "metadata": {},
   "source": [
    "<h1 align=center><font size = 2>Bhuvanesh Selvakumar</font></h1>\n"
   ]
  },
  {
   "cell_type": "markdown",
   "metadata": {},
   "source": [
    "### 1. Introduction <a class=\"anchor\" id=\"1\"></a>\n"
   ]
  },
  {
   "cell_type": "markdown",
   "metadata": {},
   "source": [
    "> The Tamil community (native to Southern India, Sri Lanka and Malaysia) are an important part of the Indian diaspora in Canada, and offer an ethnic cuisine that is unique and different from the mainstream Indian cuisine. Rice is the staple dietary constituent and heavily leans on to use of ground spices and root herbs for cooking. While many Indian restaurants in Canada include popular South Indian recepies in their menu, the traditional/native receipes are often ruled out due to the very small target population, their extreme flavor and spice variations. However with the growing Tamil population in Toronto coupled with the community's interest in expanding the commercial/culture outreach, the demand and potential of success in opening a dedicated South Indian restaurant is very high.\n",
    "\n"
   ]
  },
  {
   "cell_type": "markdown",
   "metadata": {},
   "source": [
    "#### 1.1. Problem Statement  <a class=\"anchor\" id=\"1.1\"></a>\n",
    "\n",
    "> An investor is considering the opportunity to open a South Indian restaurant in Toronto with a focus on offering authentic Tamil recipies along with popular Indian menu. The primary target customer base is the Indian diaspora in Canada due to their growing expectation and population in Toronto. The investor wants to identify neighborhoods with leading Tamil population as secondary ethnic group, as potential locations for starting the restaurant with limited/no business competition from other Indian restaurants.\n"
   ]
  },
  {
   "cell_type": "markdown",
   "metadata": {},
   "source": [
    "#### 1.2. Methodology  <a class=\"anchor\" id=\"1.2\"></a>\n",
    "\n",
    "> 1. Data Mining - Data on Toronto's demography, neighborhoods and geo-locations were queried from the following websites:<br>\n",
    ">       a. Neighborhoods: https://en.wikipedia.org/w/index.php?title=List_of_postal_codes_of_Canada:_M&oldid=1008658788 <br>\n",
    ">       b. Demography: https://en.wikipedia.org/wiki/Demographics_of_Toronto_neighbourhoods <br>\n",
    ">       c. Activities: FourSquare API<br><br>\n",
    "> 2. Data Cleaning - Sort and organize the queried raw data into a structured dataframe. Concatenate columns and segregate data as necessary and required. Create a color trend for the data in the dataframe based on ethnicity and neighborhood <br><br>\n",
    "> 3. Data Visualization - Generate map of Toronto and visualize different neighborhoods including their activities, boroughs, ethnicities etc. <br><br>\n",
    "> 4. Data Processing - Apply filters to identify neighborhood clusters (one hot encoding, k-means clustering) with high frequency of Indian restaurants and Tamil population (data indexing)<br><br>\n",
    "> 5. Data Analysis - Integrate tabuluar data (data frames) and visual analysis (color-coded maps) to identify the neighborhoods with high probability of success with opening a South Indian restaurant and present summary of recommendations. Restaurants with high Tamil population and low frequency of Indian restaurants is desired for investment. Rank top 5 neighborhoods for opening the South Indian restaurant based on the ethnic composition of the neighborhoods."
   ]
  },
  {
   "cell_type": "code",
   "execution_count": null,
   "metadata": {},
   "outputs": [],
   "source": []
  }
 ],
 "metadata": {
  "kernelspec": {
   "display_name": "Python 3",
   "language": "python",
   "name": "python3"
  },
  "language_info": {
   "codemirror_mode": {
    "name": "ipython",
    "version": 3
   },
   "file_extension": ".py",
   "mimetype": "text/x-python",
   "name": "python",
   "nbconvert_exporter": "python",
   "pygments_lexer": "ipython3",
   "version": "3.7.4"
  }
 },
 "nbformat": 4,
 "nbformat_minor": 2
}
